{
  "nbformat": 4,
  "nbformat_minor": 0,
  "metadata": {
    "colab": {
      "provenance": [],
      "authorship_tag": "ABX9TyOvfcrHJGsTWtjftLnPB3Qw",
      "include_colab_link": true
    },
    "kernelspec": {
      "name": "python3",
      "display_name": "Python 3"
    },
    "language_info": {
      "name": "python"
    }
  },
  "cells": [
    {
      "cell_type": "markdown",
      "metadata": {
        "id": "view-in-github",
        "colab_type": "text"
      },
      "source": [
        "<a href=\"https://colab.research.google.com/github/crisleiasilva/projeto1_imersaoia/blob/master/Projeto1.ipynb\" target=\"_parent\"><img src=\"https://colab.research.google.com/assets/colab-badge.svg\" alt=\"Open In Colab\"/></a>"
      ]
    },
    {
      "cell_type": "markdown",
      "source": [
        "Instalando SDK do Google"
      ],
      "metadata": {
        "id": "i_PD9yVCbwUs"
      }
    },
    {
      "cell_type": "code",
      "execution_count": 1,
      "metadata": {
        "id": "J6Pd9SFJ1yVi"
      },
      "outputs": [],
      "source": [
        "!pip install -q -U google-generativeai"
      ]
    },
    {
      "cell_type": "code",
      "execution_count": 3,
      "metadata": {
        "id": "HTiaTu6O1LRC"
      },
      "outputs": [],
      "source": [
        "\n",
        "import google.generativeai as genai\n",
        "from google.colab import userdata\n",
        "API_KEY = userdata.get(\"SECRETY_KEY\")\n",
        "genai.configure(API_KEY=API_KEY)"
      ]
    },
    {
      "cell_type": "markdown",
      "source": [
        "Listar os modelos disponíveis"
      ],
      "metadata": {
        "id": "nDzEiD1KcyMf"
      }
    },
    {
      "cell_type": "code",
      "source": [
        "for m in genai.list_models():\n",
        "  if 'generateContent' in m.supported_generation_methods:\n",
        "    print(m.name)"
      ],
      "metadata": {
        "colab": {
          "base_uri": "https://localhost:8080/",
          "height": 139
        },
        "id": "I8UC3lfxc7cV",
        "outputId": "aac7786c-7e1e-4b55-e946-1efc87aefd7c"
      },
      "execution_count": 4,
      "outputs": [
        {
          "output_type": "stream",
          "name": "stdout",
          "text": [
            "models/gemini-1.0-pro\n",
            "models/gemini-1.0-pro-001\n",
            "models/gemini-1.0-pro-latest\n",
            "models/gemini-1.0-pro-vision-latest\n",
            "models/gemini-1.5-pro-latest\n",
            "models/gemini-pro\n",
            "models/gemini-pro-vision\n"
          ]
        }
      ]
    },
    {
      "cell_type": "code",
      "source": [
        "generation_config = {\n",
        "    \"candidate_count\": 1,\n",
        "    \"temperature\": 0.5,\n",
        "}"
      ],
      "metadata": {
        "id": "ZPX4w3_4gE8B"
      },
      "execution_count": 5,
      "outputs": []
    },
    {
      "cell_type": "code",
      "source": [
        "safety_settings = {\n",
        "  \"HARASSMENT\": \"BLOCK_NONE\",\n",
        "  \"HATE\": \"BLOCK_NONE\",\n",
        "  \"SEXUAL\": \"BLOCK_NONE\",\n",
        "  \"DANGEROUS\": \"BLOCK_NONE\",\n",
        "}"
      ],
      "metadata": {
        "id": "P1ZYEBtwhEbH"
      },
      "execution_count": 12,
      "outputs": []
    },
    {
      "cell_type": "markdown",
      "source": [
        "Inicializando o modelo"
      ],
      "metadata": {
        "id": "QDNTNi_ajAoq"
      }
    },
    {
      "cell_type": "code",
      "execution_count": 13,
      "metadata": {
        "id": "NIiSs1R5mVJE"
      },
      "outputs": [],
      "source": [
        "model = genai.GenerativeModel(model_name='gemini-1.0-pro',\n",
        "                                  generation_config=generation_config,\n",
        "                                  safety_settings=safety_settings,)"
      ]
    },
    {
      "cell_type": "code",
      "source": [
        "response = model.generate_content(\"Vamos aprender sobre IA.Me dê sugestões.\")\n",
        "print(response.text)"
      ],
      "metadata": {
        "colab": {
          "base_uri": "https://localhost:8080/",
          "height": 642
        },
        "id": "XudetdW_7RZ3",
        "outputId": "b9d06082-e795-47f5-d58f-081d7391f74c"
      },
      "execution_count": 14,
      "outputs": [
        {
          "output_type": "stream",
          "name": "stdout",
          "text": [
            "**Recursos Online**\n",
            "\n",
            "* **Coursera:** Cursos de IA de universidades de renome, como Stanford e Johns Hopkins.\n",
            "* **edX:** Cursos de IA de instituições como o MIT e a Harvard.\n",
            "* **Kaggle:** Plataforma de aprendizado de máquina com tutoriais, competições e fóruns.\n",
            "* **Udemy:** Cursos de IA para iniciantes e especialistas.\n",
            "* **YouTube:** Canais como Siraj Raval e Sentdex oferecem vídeos abrangentes sobre IA.\n",
            "\n",
            "**Livros**\n",
            "\n",
            "* **Inteligência Artificial: Uma Abordagem Moderna** por Stuart Russell e Peter Norvig\n",
            "* **Aprendizado de Máquina** por Tom Mitchell\n",
            "* **Aprendizado Profundo** por Ian Goodfellow, Yoshua Bengio e Aaron Courville\n",
            "* **Visão Computacional** por David Forsyth e Jean Ponce\n",
            "* **Processamento de Linguagem Natural** por Dan Jurafsky e James H. Martin\n",
            "\n",
            "**Comunidades e Fóruns**\n",
            "\n",
            "* **Reddit r/MachineLearning:** Fórum ativo para discussões sobre aprendizado de máquina e IA.\n",
            "* **Stack Overflow:** Site de perguntas e respostas para desenvolvedores, incluindo tópicos de IA.\n",
            "* **Meetup:** Grupos locais para entusiastas de IA se conectarem e aprenderem.\n",
            "* **Conferências:** Participe de conferências como NeurIPS e ICML para se conectar com especialistas e aprender sobre as últimas tendências.\n",
            "\n",
            "**Projetos Práticos**\n",
            "\n",
            "* **Construa um chatbot:** Use bibliotecas como Rasa ou Dialogflow para criar um chatbot simples.\n",
            "* **Treine um modelo de classificação de imagem:** Use bibliotecas como TensorFlow ou PyTorch para treinar um modelo para reconhecer objetos em imagens.\n",
            "* **Analise dados de texto:** Use ferramentas de processamento de linguagem natural para extrair insights de dados de texto.\n",
            "* **Automatize tarefas:** Use IA para automatizar tarefas repetitivas, como extração de dados ou geração de relatórios.\n",
            "\n",
            "**Dicas Adicionais**\n",
            "\n",
            "* **Comece com o básico:** Aprenda os conceitos fundamentais de IA, como aprendizado de máquina e aprendizado profundo.\n",
            "* **Pratique regularmente:** Resolva problemas de codificação, participe de competições e construa projetos para aprimorar suas habilidades.\n",
            "* **Mantenha-se atualizado:** A IA está evoluindo rapidamente, então fique atento às novas tendências e tecnologias.\n",
            "* **Conecte-se com outros:** Junte-se a comunidades online e participe de eventos para se conectar com outros entusiastas de IA.\n"
          ]
        }
      ]
    },
    {
      "cell_type": "code",
      "source": [
        "chat = model.start_chat(history=[])"
      ],
      "metadata": {
        "id": "LWfpzYa67ur1"
      },
      "execution_count": 15,
      "outputs": []
    },
    {
      "cell_type": "code",
      "source": [
        "prompt = input('Esperando o prompt: ')\n",
        "\n",
        "while prompt != 'fim':\n",
        "  response = chat.send_message(prompt)\n",
        "  print(\"Resposta: \", response.text,\"\\n\")\n",
        "  prompt = input('Esperando o prompt: ')\n"
      ],
      "metadata": {
        "colab": {
          "base_uri": "https://localhost:8080/",
          "height": 243
        },
        "id": "7M5ePLwT8SWI",
        "outputId": "eef2544c-5c3b-448f-f906-e7ace213d688"
      },
      "execution_count": 18,
      "outputs": [
        {
          "name": "stdout",
          "output_type": "stream",
          "text": [
            "Esperando o prompt: Qual país tem o predomínio total da lingua inglesa?\n",
            "Resposta:  Estados Unidos \n",
            "\n",
            "Esperando o prompt: Qual a população de nativos deste país?\n",
            "Resposta:  Cerca de 288 milhões (2023) \n",
            "\n",
            "Esperando o prompt: Qual a segunda maior língua falada neste país?\n",
            "Resposta:  Espanhol \n",
            "\n",
            "Esperando o prompt: Qual a comida típica deste país?\n",
            "Resposta:  Hambúrguer \n",
            "\n",
            "Esperando o prompt: fim\n"
          ]
        }
      ]
    },
    {
      "cell_type": "code",
      "source": [
        "chat.history"
      ],
      "metadata": {
        "colab": {
          "base_uri": "https://localhost:8080/"
        },
        "id": "pDyc_qn1Ktms",
        "outputId": "c0eaca76-6f03-46b2-a78f-b2db132b9b11"
      },
      "execution_count": 19,
      "outputs": [
        {
          "output_type": "execute_result",
          "data": {
            "text/plain": [
              "[parts {\n",
              "   text: \"Qual a capital do Jap\\303\\243o?\"\n",
              " }\n",
              " role: \"user\",\n",
              " parts {\n",
              "   text: \"T\\303\\263quio\"\n",
              " }\n",
              " role: \"model\",\n",
              " parts {\n",
              "   text: \"Qual \\303\\251 a comida t\\303\\255pica desse pa\\303\\255s?\"\n",
              " }\n",
              " role: \"user\",\n",
              " parts {\n",
              "   text: \"Sushi\"\n",
              " }\n",
              " role: \"model\",\n",
              " parts {\n",
              "   text: \"Meu primo nasceu nesta cidade, qual a nacionalidade dele?\"\n",
              " }\n",
              " role: \"user\",\n",
              " parts {\n",
              "   text: \"Japonesa\"\n",
              " }\n",
              " role: \"model\",\n",
              " parts {\n",
              "   text: \"Qual \\303\\251 popula\\303\\247\\303\\243o dessa cidade?\"\n",
              " }\n",
              " role: \"user\",\n",
              " parts {\n",
              "   text: \"T\\303\\263quio tem uma popula\\303\\247\\303\\243o de aproximadamente 13,96 milh\\303\\265es de habitantes (2023).\"\n",
              " }\n",
              " role: \"model\",\n",
              " parts {\n",
              "   text: \"Qual pa\\303\\255s tem o predom\\303\\255nio total da lingua inglesa?\"\n",
              " }\n",
              " role: \"user\",\n",
              " parts {\n",
              "   text: \"Estados Unidos\"\n",
              " }\n",
              " role: \"model\",\n",
              " parts {\n",
              "   text: \"Qual a popula\\303\\247\\303\\243o de nativos deste pa\\303\\255s?\"\n",
              " }\n",
              " role: \"user\",\n",
              " parts {\n",
              "   text: \"Cerca de 288 milh\\303\\265es (2023)\"\n",
              " }\n",
              " role: \"model\",\n",
              " parts {\n",
              "   text: \"Qual a segunda maior l\\303\\255ngua falada neste pa\\303\\255s?\"\n",
              " }\n",
              " role: \"user\",\n",
              " parts {\n",
              "   text: \"Espanhol\"\n",
              " }\n",
              " role: \"model\",\n",
              " parts {\n",
              "   text: \"Qual a comida t\\303\\255pica deste pa\\303\\255s?\"\n",
              " }\n",
              " role: \"user\",\n",
              " parts {\n",
              "   text: \"Hamb\\303\\272rguer\"\n",
              " }\n",
              " role: \"model\"]"
            ]
          },
          "metadata": {},
          "execution_count": 19
        }
      ]
    },
    {
      "cell_type": "code",
      "execution_count": 20,
      "metadata": {
        "id": "dAcbPBocgzeX",
        "colab": {
          "base_uri": "https://localhost:8080/",
          "height": 1000
        },
        "outputId": "02b0f20c-b7ba-4259-fc28-afa67708adb5"
      },
      "outputs": [
        {
          "output_type": "display_data",
          "data": {
            "text/plain": [
              "<IPython.core.display.Markdown object>"
            ],
            "text/markdown": "> **user**: Qual a capital do Japão?"
          },
          "metadata": {}
        },
        {
          "output_type": "stream",
          "name": "stdout",
          "text": [
            "-------------------------------------------\n"
          ]
        },
        {
          "output_type": "display_data",
          "data": {
            "text/plain": [
              "<IPython.core.display.Markdown object>"
            ],
            "text/markdown": "> **model**: Tóquio"
          },
          "metadata": {}
        },
        {
          "output_type": "stream",
          "name": "stdout",
          "text": [
            "-------------------------------------------\n"
          ]
        },
        {
          "output_type": "display_data",
          "data": {
            "text/plain": [
              "<IPython.core.display.Markdown object>"
            ],
            "text/markdown": "> **user**: Qual é a comida típica desse país?"
          },
          "metadata": {}
        },
        {
          "output_type": "stream",
          "name": "stdout",
          "text": [
            "-------------------------------------------\n"
          ]
        },
        {
          "output_type": "display_data",
          "data": {
            "text/plain": [
              "<IPython.core.display.Markdown object>"
            ],
            "text/markdown": "> **model**: Sushi"
          },
          "metadata": {}
        },
        {
          "output_type": "stream",
          "name": "stdout",
          "text": [
            "-------------------------------------------\n"
          ]
        },
        {
          "output_type": "display_data",
          "data": {
            "text/plain": [
              "<IPython.core.display.Markdown object>"
            ],
            "text/markdown": "> **user**: Meu primo nasceu nesta cidade, qual a nacionalidade dele?"
          },
          "metadata": {}
        },
        {
          "output_type": "stream",
          "name": "stdout",
          "text": [
            "-------------------------------------------\n"
          ]
        },
        {
          "output_type": "display_data",
          "data": {
            "text/plain": [
              "<IPython.core.display.Markdown object>"
            ],
            "text/markdown": "> **model**: Japonesa"
          },
          "metadata": {}
        },
        {
          "output_type": "stream",
          "name": "stdout",
          "text": [
            "-------------------------------------------\n"
          ]
        },
        {
          "output_type": "display_data",
          "data": {
            "text/plain": [
              "<IPython.core.display.Markdown object>"
            ],
            "text/markdown": "> **user**: Qual é população dessa cidade?"
          },
          "metadata": {}
        },
        {
          "output_type": "stream",
          "name": "stdout",
          "text": [
            "-------------------------------------------\n"
          ]
        },
        {
          "output_type": "display_data",
          "data": {
            "text/plain": [
              "<IPython.core.display.Markdown object>"
            ],
            "text/markdown": "> **model**: Tóquio tem uma população de aproximadamente 13,96 milhões de habitantes (2023)."
          },
          "metadata": {}
        },
        {
          "output_type": "stream",
          "name": "stdout",
          "text": [
            "-------------------------------------------\n"
          ]
        },
        {
          "output_type": "display_data",
          "data": {
            "text/plain": [
              "<IPython.core.display.Markdown object>"
            ],
            "text/markdown": "> **user**: Qual país tem o predomínio total da lingua inglesa?"
          },
          "metadata": {}
        },
        {
          "output_type": "stream",
          "name": "stdout",
          "text": [
            "-------------------------------------------\n"
          ]
        },
        {
          "output_type": "display_data",
          "data": {
            "text/plain": [
              "<IPython.core.display.Markdown object>"
            ],
            "text/markdown": "> **model**: Estados Unidos"
          },
          "metadata": {}
        },
        {
          "output_type": "stream",
          "name": "stdout",
          "text": [
            "-------------------------------------------\n"
          ]
        },
        {
          "output_type": "display_data",
          "data": {
            "text/plain": [
              "<IPython.core.display.Markdown object>"
            ],
            "text/markdown": "> **user**: Qual a população de nativos deste país?"
          },
          "metadata": {}
        },
        {
          "output_type": "stream",
          "name": "stdout",
          "text": [
            "-------------------------------------------\n"
          ]
        },
        {
          "output_type": "display_data",
          "data": {
            "text/plain": [
              "<IPython.core.display.Markdown object>"
            ],
            "text/markdown": "> **model**: Cerca de 288 milhões (2023)"
          },
          "metadata": {}
        },
        {
          "output_type": "stream",
          "name": "stdout",
          "text": [
            "-------------------------------------------\n"
          ]
        },
        {
          "output_type": "display_data",
          "data": {
            "text/plain": [
              "<IPython.core.display.Markdown object>"
            ],
            "text/markdown": "> **user**: Qual a segunda maior língua falada neste país?"
          },
          "metadata": {}
        },
        {
          "output_type": "stream",
          "name": "stdout",
          "text": [
            "-------------------------------------------\n"
          ]
        },
        {
          "output_type": "display_data",
          "data": {
            "text/plain": [
              "<IPython.core.display.Markdown object>"
            ],
            "text/markdown": "> **model**: Espanhol"
          },
          "metadata": {}
        },
        {
          "output_type": "stream",
          "name": "stdout",
          "text": [
            "-------------------------------------------\n"
          ]
        },
        {
          "output_type": "display_data",
          "data": {
            "text/plain": [
              "<IPython.core.display.Markdown object>"
            ],
            "text/markdown": "> **user**: Qual a comida típica deste país?"
          },
          "metadata": {}
        },
        {
          "output_type": "stream",
          "name": "stdout",
          "text": [
            "-------------------------------------------\n"
          ]
        },
        {
          "output_type": "display_data",
          "data": {
            "text/plain": [
              "<IPython.core.display.Markdown object>"
            ],
            "text/markdown": "> **model**: Hambúrguer"
          },
          "metadata": {}
        },
        {
          "output_type": "stream",
          "name": "stdout",
          "text": [
            "-------------------------------------------\n"
          ]
        }
      ],
      "source": [
        "#Melhorando a visualização\n",
        "#Código disponível em https://ai.google.dev/tutorials/python_quickstart#import_packages\n",
        "import textwrap\n",
        "from IPython.display import display\n",
        "from IPython.display import Markdown\n",
        "\n",
        "def to_markdown(text):\n",
        "  text = text.replace('•', '  *')\n",
        "  return Markdown(textwrap.indent(text, '> ', predicate=lambda _: True))\n",
        "\n",
        "#Imprimindo o histórico\n",
        "for message in chat.history:\n",
        "  display(to_markdown(f'**{message.role}**: {message.parts[0].text}'))\n",
        "  print('-------------------------------------------')"
      ]
    }
  ]
}